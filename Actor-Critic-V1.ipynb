{
 "cells": [
  {
   "cell_type": "code",
   "execution_count": 2,
   "metadata": {},
   "outputs": [],
   "source": [
    "import numpy as np\n",
    "import random\n",
    "from keras.layers import LSTM, Dense, Activation, Input, Lambda, Concatenate\n",
    "from keras.models import Model\n",
    "from keras import backend as K\n",
    "from keras.optimizers import Adam\n",
    "from collections import deque"
   ]
  },
  {
   "cell_type": "markdown",
   "metadata": {},
   "source": [
    "## Make synthetic problem"
   ]
  },
  {
   "cell_type": "code",
   "execution_count": 44,
   "metadata": {},
   "outputs": [],
   "source": [
    "len_sample = 8\n",
    "dims = 16\n",
    "n_samples = 200\n",
    "documents, summaries = [], []\n",
    "\n",
    "for i in range(n_samples):\n",
    "    document, summary = [], []\n",
    "    for j in range(len_sample):\n",
    "        rnd = random.randint(0, 1)\n",
    "        if rnd == 0:\n",
    "            s = np.zeros((dims,)) #np.random.normal(loc = 0., scale = 0.2, size = (dims,))\n",
    "            document.append(s)\n",
    "        else:\n",
    "            s = np.ones((dims,)) #np.random.normal(loc = 1, scale = 0.1, size = (dims,))\n",
    "            document.append(s)\n",
    "            summary.append(s)\n",
    "            \n",
    "    documents.append(document)\n",
    "    summaries.append(summary)\n",
    "    \n",
    "documents = np.array(documents)\n",
    "summaries = np.array(summaries)"
   ]
  },
  {
   "cell_type": "markdown",
   "metadata": {},
   "source": [
    "## Actor Critic Agent"
   ]
  },
  {
   "cell_type": "code",
   "execution_count": 45,
   "metadata": {},
   "outputs": [],
   "source": [
    "class A2CAgent:\n",
    "    \n",
    "    def __init__(self, doc_state_dim, summ_state_dim, action_dim = 2):\n",
    "        \n",
    "        self.doc_state_dim = doc_state_dim\n",
    "        self.summ_state_dim = summ_state_dim\n",
    "        self.action_dim = action_dim\n",
    "        \n",
    "        self.discount_factor = 0.99\n",
    "        self.actor_lr = 0.001\n",
    "        self.critic_lr = 0.005\n",
    "  \n",
    "        self.exploration_max = 1.0\n",
    "        self.exploration_min = 0.01\n",
    "        self.exploration_decay = 0.9995\n",
    "        self.exploration_rate = self.exploration_max\n",
    "        \n",
    "        self.memory = deque(maxlen=MEMORY_SIZE)\n",
    "        \n",
    "        self.lstm_dims = 16\n",
    "        self.reader, self.actor, self.critic = self.build_models()\n",
    "\n",
    "        \n",
    "    def build_models(self):\n",
    "        \n",
    "        doc_state = Input(shape=(None, dims))\n",
    "        summ_state = Input(shape=(None, dims))\n",
    "        state_h = Input(shape=(self.lstm_dims,))\n",
    "        state_c = Input(shape=(self.lstm_dims,))\n",
    "        \n",
    "        lstm = LSTM(self.lstm_dims, activation = \"tanh\", name = \"lstm_1\", return_sequences=False, return_state=True)\n",
    "        \n",
    "        o1, lstm_state_h, lstm_state_c  = lstm(doc_state, initial_state = [state_h, state_c])\n",
    "        o2, _, _  = lstm(summ_state, initial_state = [state_h, state_c])\n",
    "    \n",
    "        diff = Lambda(lambda x: K.abs(x[0] - x[1]))([o1, o2])\n",
    "        diff = Concatenate()([o1, o2, diff])\n",
    "        \n",
    "        # Shared actor and critic #\n",
    "        actor_output = Dense(self.action_dim, activation = \"softmax\")(diff)\n",
    "        critic_output = Dense(1, activation=\"linear\")(diff)\n",
    "        \n",
    "        reader = Model(inputs = [doc_state, state_h, state_c], outputs = [lstm_state_h, lstm_state_c])\n",
    "        actor = Model(inputs = [doc_state, summ_state, state_h, state_c], outputs = actor_output)\n",
    "        critic = Model(inputs = [doc_state, summ_state, state_h, state_c], outputs = critic_output)\n",
    "\n",
    "        actor.compile(loss='categorical_crossentropy', optimizer=Adam(lr=self.actor_lr))\n",
    "        critic.compile(loss=\"mse\", optimizer=Adam(lr=self.critic_lr))\n",
    "                       \n",
    "        return reader, actor, critic\n",
    "                        \n",
    "\n",
    "    # using the output of policy network, pick action stochastically\n",
    "    def get_action(self, doc_state, summ_state, state_h, state_c):\n",
    "        if np.random.rand() < self.exploration_rate:\n",
    "            return random.randrange(self.action_dim)\n",
    "        policy = self.actor.predict([doc_state, summ_state, state_h, state_c])[0]\n",
    "        r = np.random.choice(self.action_dim, 1, p=policy)[0]\n",
    "        return r\n",
    "\n",
    "                       \n",
    "    def remember(self, doc_state, summ_state, state_h, state_c, \n",
    "                 action, reward, next_doc_state, next_summ_state, \n",
    "                 done):\n",
    "        \n",
    "        self.memory.append((doc_state, summ_state, state_h, state_c,\n",
    "                            action, reward, next_doc_state, next_summ_state,\n",
    "                            done)) \n",
    "     \n",
    "    # update policy network every episode (Memory Replay & Batchified)\n",
    "    def train_model(self):\n",
    "        if len(self.memory) < MEMORY_SIZE:\n",
    "            return\n",
    "        \n",
    "        target = np.zeros(1,)\n",
    "        advantage = np.zeros((self.action_dim,))\n",
    "        \n",
    "        rnd_idx = random.randint(0, len(self.memory)-1)\n",
    "        (doc_state, summ_state, state_h, state_c,\n",
    "        action, reward, next_doc_state, next_summ_state,\n",
    "        done)= self.memory[rnd_idx]\n",
    "        summ_state = np.array([summ_state])\n",
    "        next_summ_state = np.array([next_summ_state])\n",
    "\n",
    "        values = self.critic.predict([doc_state, summ_state, state_h, state_c])[0]     \n",
    "        next_values = self.critic.predict([next_doc_state, next_summ_state, state_h, state_c])[0]\n",
    "              \n",
    "        \n",
    "        for i in range(1):\n",
    "            if done:\n",
    "                advantage[action] = max(min(1., reward - values), 0.)\n",
    "                target[0] = reward\n",
    "            else:\n",
    "                # Explicacion: https://lilianweng.github.io/lil-log/2018/05/05/implementing-deep-reinforcement-learning-models.html#actor-critic\n",
    "                advantage[action] = max(min(1., reward + self.discount_factor * (next_values) - values), 0.)\n",
    "                target[0] = reward + self.discount_factor * next_values\n",
    "                \n",
    "        self.exploration_rate *= self.exploration_decay\n",
    "        self.exploration_rate = max(self.exploration_min, self.exploration_rate)\n",
    "        \n",
    "        advantage = np.array([advantage])\n",
    "        target = np.array([target])\n",
    "\n",
    "        self.actor.fit([doc_state, summ_state, state_h, state_c], advantage, epochs=1, batch_size = 1, verbose=0)\n",
    "        self.critic.fit([doc_state, summ_state, state_h, state_c], target, epochs=1, batch_size = 1, verbose=0)"
   ]
  },
  {
   "cell_type": "code",
   "execution_count": 46,
   "metadata": {},
   "outputs": [],
   "source": [
    "def get_reward(gen_summary, summary):\n",
    "    acum_sims = 0.\n",
    "    for i in range(len(gen_summary)):\n",
    "        found = False\n",
    "        for j in range(len(summary)):\n",
    "            if (gen_summary[i] == summary[j]).all() == True:\n",
    "                found = True\n",
    "                break\n",
    "        if found == True:\n",
    "            acum_sims += 1\n",
    "        else:\n",
    "            acum_sims -= 1\n",
    "    return acum_sims #/ max(len(gen_summary), len(summary))"
   ]
  },
  {
   "cell_type": "code",
   "execution_count": 48,
   "metadata": {},
   "outputs": [
    {
     "name": "stdout",
     "output_type": "stream",
     "text": [
      "Avg reward on episode: 0 -> 0.160\n",
      "Avg reward on episode: 1 -> 0.750\n",
      "Avg reward on episode: 2 -> 1.725\n",
      "Avg reward on episode: 3 -> 2.095\n",
      "Avg reward on episode: 4 -> 2.125\n",
      "Avg reward on episode: 5 -> 2.400\n",
      "Avg reward on episode: 6 -> 2.910\n",
      "Avg reward on episode: 7 -> 2.860\n",
      "Avg reward on episode: 8 -> 3.145\n",
      "Avg reward on episode: 9 -> 3.490\n"
     ]
    }
   ],
   "source": [
    "EPISODES = 10\n",
    "N_SAMPLES = n_samples\n",
    "BATCH_SIZE = 1\n",
    "MEMORY_SIZE = 1024\n",
    "\n",
    "# get size of state and action from environment\n",
    "doc_state_dim = summ_state_dim = dims\n",
    "action_dim = 2\n",
    "\n",
    "# make A2C agent\n",
    "agent = A2CAgent(doc_state_dim, summ_state_dim, action_dim)\n",
    "\n",
    "\n",
    "for e in range(EPISODES):\n",
    "\n",
    "    scores = []\n",
    "    \n",
    "    for i in range(N_SAMPLES):\n",
    "        document = documents[i]\n",
    "        summary = summaries[i]\n",
    "        \n",
    "        # Leer doc por completo #\n",
    "        init_c_state = np.zeros((1, 16)) + 1e-16\n",
    "        init_h_state = np.zeros((1, 16)) + 1e-16\n",
    "        lstm_h_state, lstm_c_state = agent.reader.predict([np.array([document]), init_h_state, init_c_state])\n",
    "\n",
    "        summ_state = [np.zeros(summ_state_dim) + 1e-16]\n",
    "        actions = []\n",
    "\n",
    "        for j in range(len(document)):\n",
    "\n",
    "            doc_state = np.array([document[0 : j + 1]])\n",
    "            next_doc_state = np.array([document[0 : j + 2]])\n",
    "            next_summ_state = summ_state[:]\n",
    "\n",
    "            action = agent.get_action(doc_state, np.array([summ_state]), lstm_h_state, lstm_c_state)\n",
    "            \n",
    "            if action == 1:\n",
    "                next_summ_state.append(document[j].tolist())\n",
    "                actions.append(1)\n",
    "            else:\n",
    "                actions.append(0)\n",
    "\n",
    "            reward = get_reward(np.array(next_summ_state[1:]), summary)\n",
    "\n",
    "            if j < len(document) - 1:\n",
    "                done = False\n",
    "            else:\n",
    "                done = True\n",
    "\n",
    "            agent.remember(doc_state, summ_state, lstm_h_state, lstm_c_state, \n",
    "                           action, reward, next_doc_state, next_summ_state, done)\n",
    "\n",
    "            agent.train_model()\n",
    "\n",
    "            summ_state = next_summ_state\n",
    "        scores.append(reward)\n",
    "        #print(\"Sample: %d, Actions: %s, Reward: %.4f\" % (i, str(actions), reward))\n",
    "    print(\"Avg reward on episode: %d -> %.3f\" % (e, np.array(scores).mean()))"
   ]
  },
  {
   "cell_type": "code",
   "execution_count": 49,
   "metadata": {},
   "outputs": [],
   "source": [
    "document = documents[1]\n",
    "summary = summaries[1]\n",
    "\n",
    "# Leer doc por completo #\n",
    "init_c_state = np.zeros((1, 16)) + 1e-16\n",
    "init_h_state = np.zeros((1, 16)) + 1e-16\n",
    "lstm_h_state, lstm_c_state = agent.reader.predict([np.array([document]), init_h_state, init_c_state])\n",
    "\n",
    "summ_state = [np.zeros(summ_state_dim) + 1e-16]\n",
    "actions = []\n",
    "\n",
    "for j in range(len(document)):\n",
    "\n",
    "    doc_state = np.array([document[0 : j + 1]])\n",
    "    next_doc_state = np.array([document[0 : j + 2]])\n",
    "    next_summ_state = summ_state[:]\n",
    "\n",
    "    action = agent.get_action(doc_state, np.array([summ_state]), lstm_h_state, lstm_c_state)\n",
    "\n",
    "    if action == 1:\n",
    "        next_summ_state.append(document[j].tolist())\n",
    "        actions.append(1)\n",
    "    else:\n",
    "        actions.append(0)\n",
    "\n",
    "    reward = get_reward(np.array(next_summ_state[1:]), summary)\n",
    "\n",
    "    if j < len(document) - 1:\n",
    "        done = False\n",
    "    else:\n",
    "        done = True\n",
    "    \n",
    "    summ_state = next_summ_state"
   ]
  },
  {
   "cell_type": "code",
   "execution_count": 50,
   "metadata": {},
   "outputs": [
    {
     "data": {
      "text/plain": [
       "[0, 1, 1, 0, 0, 0, 1, 1]"
      ]
     },
     "execution_count": 50,
     "metadata": {},
     "output_type": "execute_result"
    }
   ],
   "source": [
    "actions"
   ]
  },
  {
   "cell_type": "code",
   "execution_count": 51,
   "metadata": {},
   "outputs": [
    {
     "data": {
      "text/plain": [
       "array([[0., 0., 0., 0., 0., 0., 0., 0., 0., 0., 0., 0., 0., 0., 0., 0.],\n",
       "       [1., 1., 1., 1., 1., 1., 1., 1., 1., 1., 1., 1., 1., 1., 1., 1.],\n",
       "       [1., 1., 1., 1., 1., 1., 1., 1., 1., 1., 1., 1., 1., 1., 1., 1.],\n",
       "       [0., 0., 0., 0., 0., 0., 0., 0., 0., 0., 0., 0., 0., 0., 0., 0.],\n",
       "       [0., 0., 0., 0., 0., 0., 0., 0., 0., 0., 0., 0., 0., 0., 0., 0.],\n",
       "       [0., 0., 0., 0., 0., 0., 0., 0., 0., 0., 0., 0., 0., 0., 0., 0.],\n",
       "       [1., 1., 1., 1., 1., 1., 1., 1., 1., 1., 1., 1., 1., 1., 1., 1.],\n",
       "       [1., 1., 1., 1., 1., 1., 1., 1., 1., 1., 1., 1., 1., 1., 1., 1.]])"
      ]
     },
     "execution_count": 51,
     "metadata": {},
     "output_type": "execute_result"
    }
   ],
   "source": [
    "document"
   ]
  },
  {
   "cell_type": "code",
   "execution_count": 52,
   "metadata": {},
   "outputs": [
    {
     "data": {
      "text/plain": [
       "[array([1., 1., 1., 1., 1., 1., 1., 1., 1., 1., 1., 1., 1., 1., 1., 1.]),\n",
       " array([1., 1., 1., 1., 1., 1., 1., 1., 1., 1., 1., 1., 1., 1., 1., 1.]),\n",
       " array([1., 1., 1., 1., 1., 1., 1., 1., 1., 1., 1., 1., 1., 1., 1., 1.]),\n",
       " array([1., 1., 1., 1., 1., 1., 1., 1., 1., 1., 1., 1., 1., 1., 1., 1.])]"
      ]
     },
     "execution_count": 52,
     "metadata": {},
     "output_type": "execute_result"
    }
   ],
   "source": [
    "summary"
   ]
  },
  {
   "cell_type": "code",
   "execution_count": 53,
   "metadata": {},
   "outputs": [
    {
     "data": {
      "text/plain": [
       "array([[1., 1., 1., 1., 1., 1., 1., 1., 1., 1., 1., 1., 1., 1., 1., 1.],\n",
       "       [1., 1., 1., 1., 1., 1., 1., 1., 1., 1., 1., 1., 1., 1., 1., 1.],\n",
       "       [1., 1., 1., 1., 1., 1., 1., 1., 1., 1., 1., 1., 1., 1., 1., 1.],\n",
       "       [1., 1., 1., 1., 1., 1., 1., 1., 1., 1., 1., 1., 1., 1., 1., 1.]])"
      ]
     },
     "execution_count": 53,
     "metadata": {},
     "output_type": "execute_result"
    }
   ],
   "source": [
    "np.array(summ_state[1:])"
   ]
  },
  {
   "cell_type": "code",
   "execution_count": 43,
   "metadata": {},
   "outputs": [
    {
     "data": {
      "text/plain": [
       "2.0"
      ]
     },
     "execution_count": 43,
     "metadata": {},
     "output_type": "execute_result"
    }
   ],
   "source": [
    "get_reward(summ_state[1:], summary)"
   ]
  },
  {
   "cell_type": "code",
   "execution_count": null,
   "metadata": {},
   "outputs": [],
   "source": []
  },
  {
   "cell_type": "code",
   "execution_count": null,
   "metadata": {},
   "outputs": [],
   "source": []
  }
 ],
 "metadata": {
  "kernelspec": {
   "display_name": "Python 3",
   "language": "python",
   "name": "python3"
  },
  "language_info": {
   "codemirror_mode": {
    "name": "ipython",
    "version": 3
   },
   "file_extension": ".py",
   "mimetype": "text/x-python",
   "name": "python",
   "nbconvert_exporter": "python",
   "pygments_lexer": "ipython3",
   "version": "3.7.1"
  }
 },
 "nbformat": 4,
 "nbformat_minor": 2
}
